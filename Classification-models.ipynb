{
 "cells": [
  {
   "cell_type": "markdown",
   "id": "fb0b82ec",
   "metadata": {
    "papermill": {
     "duration": 0.005253,
     "end_time": "2023-01-30T06:13:53.820879",
     "exception": false,
     "start_time": "2023-01-30T06:13:53.815626",
     "status": "completed"
    },
    "tags": []
   },
   "source": [
    "In this short notebook we will find how to get a list of all Classification Models (41 models) and import them. We will also see how can we check if it's a regressor or a classifier."
   ]
  },
  {
   "cell_type": "markdown",
   "id": "21e59d0c",
   "metadata": {
    "papermill": {
     "duration": 0.003349,
     "end_time": "2023-01-30T06:13:53.828144",
     "exception": false,
     "start_time": "2023-01-30T06:13:53.824795",
     "status": "completed"
    },
    "tags": []
   },
   "source": [
    "# Get list of all classifiers"
   ]
  },
  {
   "cell_type": "markdown",
   "id": "63b096bb",
   "metadata": {
    "papermill": {
     "duration": 0.003262,
     "end_time": "2023-01-30T06:13:53.835004",
     "exception": false,
     "start_time": "2023-01-30T06:13:53.831742",
     "status": "completed"
    },
    "tags": []
   },
   "source": [
    "The magic sklearn method **all_estimators** contains info about all sklearn estimators."
   ]
  },
  {
   "cell_type": "code",
   "execution_count": 1,
   "id": "8d9b20d1",
   "metadata": {
    "execution": {
     "iopub.execute_input": "2023-01-30T06:13:53.844154Z",
     "iopub.status.busy": "2023-01-30T06:13:53.843709Z",
     "iopub.status.idle": "2023-01-30T06:13:55.505208Z",
     "shell.execute_reply": "2023-01-30T06:13:55.503963Z"
    },
    "papermill": {
     "duration": 1.669393,
     "end_time": "2023-01-30T06:13:55.507919",
     "exception": false,
     "start_time": "2023-01-30T06:13:53.838526",
     "status": "completed"
    },
    "tags": []
   },
   "outputs": [
    {
     "name": "stdout",
     "output_type": "stream",
     "text": [
      "1. AdaBoostClassifier\n",
      "2. BaggingClassifier\n",
      "3. BernoulliNB\n",
      "4. CalibratedClassifierCV\n",
      "5. CategoricalNB\n",
      "6. ClassifierChain\n",
      "7. ComplementNB\n",
      "8. DecisionTreeClassifier\n",
      "9. DummyClassifier\n",
      "10. ExtraTreeClassifier\n",
      "11. ExtraTreesClassifier\n",
      "12. GaussianNB\n",
      "13. GaussianProcessClassifier\n",
      "14. GradientBoostingClassifier\n",
      "15. HistGradientBoostingClassifier\n",
      "16. KNeighborsClassifier\n",
      "17. LabelPropagation\n",
      "18. LabelSpreading\n",
      "19. LinearDiscriminantAnalysis\n",
      "20. LinearSVC\n",
      "21. LogisticRegression\n",
      "22. LogisticRegressionCV\n",
      "23. MLPClassifier\n",
      "24. MultiOutputClassifier\n",
      "25. MultinomialNB\n",
      "26. NearestCentroid\n",
      "27. NuSVC\n",
      "28. OneVsOneClassifier\n",
      "29. OneVsRestClassifier\n",
      "30. OutputCodeClassifier\n",
      "31. PassiveAggressiveClassifier\n",
      "32. Perceptron\n",
      "33. QuadraticDiscriminantAnalysis\n",
      "34. RadiusNeighborsClassifier\n",
      "35. RandomForestClassifier\n",
      "36. RidgeClassifier\n",
      "37. RidgeClassifierCV\n",
      "38. SGDClassifier\n",
      "39. SVC\n",
      "40. StackingClassifier\n",
      "41. VotingClassifier\n"
     ]
    }
   ],
   "source": [
    "# Import all estimators list\n",
    "from sklearn.utils import all_estimators\n",
    "\n",
    "\n",
    "estimators = all_estimators(type_filter='classifier')\n",
    "classification_estimators = []\n",
    "i = 1\n",
    "for name, class_ in estimators:\n",
    "    classification_estimators.append(class_.__name__)\n",
    "    print(f'{i}. {class_.__name__}')\n",
    "    i += 1"
   ]
  },
  {
   "cell_type": "markdown",
   "id": "935e492e",
   "metadata": {
    "papermill": {
     "duration": 0.003435,
     "end_time": "2023-01-30T06:13:55.515229",
     "exception": false,
     "start_time": "2023-01-30T06:13:55.511794",
     "status": "completed"
    },
    "tags": []
   },
   "source": [
    "41 regression models! Wow. <br><br>Let's try importing them all at once!"
   ]
  },
  {
   "cell_type": "code",
   "execution_count": 2,
   "id": "10f2e984",
   "metadata": {
    "execution": {
     "iopub.execute_input": "2023-01-30T06:13:55.524770Z",
     "iopub.status.busy": "2023-01-30T06:13:55.523865Z",
     "iopub.status.idle": "2023-01-30T06:13:55.530634Z",
     "shell.execute_reply": "2023-01-30T06:13:55.529618Z"
    },
    "papermill": {
     "duration": 0.014245,
     "end_time": "2023-01-30T06:13:55.533061",
     "exception": false,
     "start_time": "2023-01-30T06:13:55.518816",
     "status": "completed"
    },
    "tags": []
   },
   "outputs": [
    {
     "name": "stdout",
     "output_type": "stream",
     "text": [
      "from sklearn.ensemble._weight_boosting import AdaBoostClassifier\n",
      "from sklearn.ensemble._bagging import BaggingClassifier\n",
      "from sklearn.naive_bayes import BernoulliNB\n",
      "from sklearn.calibration import CalibratedClassifierCV\n",
      "from sklearn.naive_bayes import CategoricalNB\n",
      "from sklearn.multioutput import ClassifierChain\n",
      "from sklearn.naive_bayes import ComplementNB\n",
      "from sklearn.tree._classes import DecisionTreeClassifier\n",
      "from sklearn.dummy import DummyClassifier\n",
      "from sklearn.tree._classes import ExtraTreeClassifier\n",
      "from sklearn.ensemble._forest import ExtraTreesClassifier\n",
      "from sklearn.naive_bayes import GaussianNB\n",
      "from sklearn.gaussian_process._gpc import GaussianProcessClassifier\n",
      "from sklearn.ensemble._gb import GradientBoostingClassifier\n",
      "from sklearn.ensemble._hist_gradient_boosting.gradient_boosting import HistGradientBoostingClassifier\n",
      "from sklearn.neighbors._classification import KNeighborsClassifier\n",
      "from sklearn.semi_supervised._label_propagation import LabelPropagation\n",
      "from sklearn.semi_supervised._label_propagation import LabelSpreading\n",
      "from sklearn.discriminant_analysis import LinearDiscriminantAnalysis\n",
      "from sklearn.svm._classes import LinearSVC\n",
      "from sklearn.linear_model._logistic import LogisticRegression\n",
      "from sklearn.linear_model._logistic import LogisticRegressionCV\n",
      "from sklearn.neural_network._multilayer_perceptron import MLPClassifier\n",
      "from sklearn.multioutput import MultiOutputClassifier\n",
      "from sklearn.naive_bayes import MultinomialNB\n",
      "from sklearn.neighbors._nearest_centroid import NearestCentroid\n",
      "from sklearn.svm._classes import NuSVC\n",
      "from sklearn.multiclass import OneVsOneClassifier\n",
      "from sklearn.multiclass import OneVsRestClassifier\n",
      "from sklearn.multiclass import OutputCodeClassifier\n",
      "from sklearn.linear_model._passive_aggressive import PassiveAggressiveClassifier\n",
      "from sklearn.linear_model._perceptron import Perceptron\n",
      "from sklearn.discriminant_analysis import QuadraticDiscriminantAnalysis\n",
      "from sklearn.neighbors._classification import RadiusNeighborsClassifier\n",
      "from sklearn.ensemble._forest import RandomForestClassifier\n",
      "from sklearn.linear_model._ridge import RidgeClassifier\n",
      "from sklearn.linear_model._ridge import RidgeClassifierCV\n",
      "from sklearn.linear_model._stochastic_gradient import SGDClassifier\n",
      "from sklearn.svm._classes import SVC\n",
      "from sklearn.ensemble._stacking import StackingClassifier\n",
      "from sklearn.ensemble._voting import VotingClassifier\n"
     ]
    }
   ],
   "source": [
    "for name, class_ in estimators:\n",
    "    module_name = str(class_).split(\"'\")[1].split(\".\")[1:][:-1]\n",
    "    module_name = '.'.join(module_name)\n",
    "    class_name = class_.__name__\n",
    "    print(f'from sklearn.{module_name} import {class_name}')"
   ]
  },
  {
   "cell_type": "markdown",
   "id": "4a591306",
   "metadata": {
    "papermill": {
     "duration": 0.003501,
     "end_time": "2023-01-30T06:13:55.540441",
     "exception": false,
     "start_time": "2023-01-30T06:13:55.536940",
     "status": "completed"
    },
    "tags": []
   },
   "source": [
    "Voilà! Just copy and run it.."
   ]
  },
  {
   "cell_type": "code",
   "execution_count": 3,
   "id": "28c2ea63",
   "metadata": {
    "execution": {
     "iopub.execute_input": "2023-01-30T06:13:55.549388Z",
     "iopub.status.busy": "2023-01-30T06:13:55.549025Z",
     "iopub.status.idle": "2023-01-30T06:13:55.560966Z",
     "shell.execute_reply": "2023-01-30T06:13:55.560155Z"
    },
    "papermill": {
     "duration": 0.018849,
     "end_time": "2023-01-30T06:13:55.562944",
     "exception": false,
     "start_time": "2023-01-30T06:13:55.544095",
     "status": "completed"
    },
    "tags": []
   },
   "outputs": [],
   "source": [
    "from sklearn.ensemble._weight_boosting import AdaBoostClassifier\n",
    "from sklearn.ensemble._bagging import BaggingClassifier\n",
    "from sklearn.naive_bayes import BernoulliNB\n",
    "from sklearn.calibration import CalibratedClassifierCV\n",
    "from sklearn.naive_bayes import CategoricalNB\n",
    "from sklearn.multioutput import ClassifierChain\n",
    "from sklearn.naive_bayes import ComplementNB\n",
    "from sklearn.tree._classes import DecisionTreeClassifier\n",
    "from sklearn.dummy import DummyClassifier\n",
    "from sklearn.tree._classes import ExtraTreeClassifier\n",
    "from sklearn.ensemble._forest import ExtraTreesClassifier\n",
    "from sklearn.naive_bayes import GaussianNB\n",
    "from sklearn.gaussian_process._gpc import GaussianProcessClassifier\n",
    "from sklearn.ensemble._gb import GradientBoostingClassifier\n",
    "from sklearn.ensemble._hist_gradient_boosting.gradient_boosting import HistGradientBoostingClassifier\n",
    "from sklearn.neighbors._classification import KNeighborsClassifier\n",
    "from sklearn.semi_supervised._label_propagation import LabelPropagation\n",
    "from sklearn.semi_supervised._label_propagation import LabelSpreading\n",
    "from sklearn.discriminant_analysis import LinearDiscriminantAnalysis\n",
    "from sklearn.svm._classes import LinearSVC\n",
    "from sklearn.linear_model._logistic import LogisticRegression\n",
    "from sklearn.linear_model._logistic import LogisticRegressionCV\n",
    "from sklearn.neural_network._multilayer_perceptron import MLPClassifier\n",
    "from sklearn.multioutput import MultiOutputClassifier\n",
    "from sklearn.naive_bayes import MultinomialNB\n",
    "from sklearn.neighbors._nearest_centroid import NearestCentroid\n",
    "from sklearn.svm._classes import NuSVC\n",
    "from sklearn.multiclass import OneVsOneClassifier\n",
    "from sklearn.multiclass import OneVsRestClassifier\n",
    "from sklearn.multiclass import OutputCodeClassifier\n",
    "from sklearn.linear_model._passive_aggressive import PassiveAggressiveClassifier\n",
    "from sklearn.linear_model._perceptron import Perceptron\n",
    "from sklearn.discriminant_analysis import QuadraticDiscriminantAnalysis\n",
    "from sklearn.neighbors._classification import RadiusNeighborsClassifier\n",
    "from sklearn.ensemble._forest import RandomForestClassifier\n",
    "from sklearn.linear_model._ridge import RidgeClassifier\n",
    "from sklearn.linear_model._ridge import RidgeClassifierCV\n",
    "from sklearn.linear_model._stochastic_gradient import SGDClassifier\n",
    "from sklearn.svm._classes import SVC\n",
    "from sklearn.ensemble._stacking import StackingClassifier\n",
    "from sklearn.ensemble._voting import VotingClassifier"
   ]
  },
  {
   "cell_type": "markdown",
   "id": "c0b3bacc",
   "metadata": {
    "papermill": {
     "duration": 0.003391,
     "end_time": "2023-01-30T06:13:55.570188",
     "exception": false,
     "start_time": "2023-01-30T06:13:55.566797",
     "status": "completed"
    },
    "tags": []
   },
   "source": [
    "That's it. Next we can create a loop or work with each model separately as required."
   ]
  },
  {
   "cell_type": "code",
   "execution_count": 4,
   "id": "191ff608",
   "metadata": {
    "execution": {
     "iopub.execute_input": "2023-01-30T06:13:55.579350Z",
     "iopub.status.busy": "2023-01-30T06:13:55.578466Z",
     "iopub.status.idle": "2023-01-30T06:13:55.586907Z",
     "shell.execute_reply": "2023-01-30T06:13:55.586017Z"
    },
    "papermill": {
     "duration": 0.015238,
     "end_time": "2023-01-30T06:13:55.589033",
     "exception": false,
     "start_time": "2023-01-30T06:13:55.573795",
     "status": "completed"
    },
    "tags": []
   },
   "outputs": [
    {
     "data": {
      "text/plain": [
       "['AdaBoostClassifier',\n",
       " 'BaggingClassifier',\n",
       " 'BernoulliNB',\n",
       " 'CalibratedClassifierCV',\n",
       " 'CategoricalNB',\n",
       " 'ClassifierChain',\n",
       " 'ComplementNB',\n",
       " 'DecisionTreeClassifier',\n",
       " 'DummyClassifier',\n",
       " 'ExtraTreeClassifier',\n",
       " 'ExtraTreesClassifier',\n",
       " 'GaussianNB',\n",
       " 'GaussianProcessClassifier',\n",
       " 'GradientBoostingClassifier',\n",
       " 'HistGradientBoostingClassifier',\n",
       " 'KNeighborsClassifier',\n",
       " 'LabelPropagation',\n",
       " 'LabelSpreading',\n",
       " 'LinearDiscriminantAnalysis',\n",
       " 'LinearSVC',\n",
       " 'LogisticRegression',\n",
       " 'LogisticRegressionCV',\n",
       " 'MLPClassifier',\n",
       " 'MultiOutputClassifier',\n",
       " 'MultinomialNB',\n",
       " 'NearestCentroid',\n",
       " 'NuSVC',\n",
       " 'OneVsOneClassifier',\n",
       " 'OneVsRestClassifier',\n",
       " 'OutputCodeClassifier',\n",
       " 'PassiveAggressiveClassifier',\n",
       " 'Perceptron',\n",
       " 'QuadraticDiscriminantAnalysis',\n",
       " 'RadiusNeighborsClassifier',\n",
       " 'RandomForestClassifier',\n",
       " 'RidgeClassifier',\n",
       " 'RidgeClassifierCV',\n",
       " 'SGDClassifier',\n",
       " 'SVC',\n",
       " 'StackingClassifier',\n",
       " 'VotingClassifier']"
      ]
     },
     "execution_count": 4,
     "metadata": {},
     "output_type": "execute_result"
    }
   ],
   "source": [
    "classification_estimators"
   ]
  },
  {
   "cell_type": "markdown",
   "id": "ebc7f219",
   "metadata": {
    "papermill": {
     "duration": 0.003788,
     "end_time": "2023-01-30T06:13:55.596735",
     "exception": false,
     "start_time": "2023-01-30T06:13:55.592947",
     "status": "completed"
    },
    "tags": []
   },
   "source": [
    "# To check if a model is regressor or classifier?"
   ]
  },
  {
   "cell_type": "code",
   "execution_count": 5,
   "id": "c7da41ff",
   "metadata": {
    "execution": {
     "iopub.execute_input": "2023-01-30T06:13:55.606492Z",
     "iopub.status.busy": "2023-01-30T06:13:55.605545Z",
     "iopub.status.idle": "2023-01-30T06:13:55.632735Z",
     "shell.execute_reply": "2023-01-30T06:13:55.631544Z"
    },
    "papermill": {
     "duration": 0.034485,
     "end_time": "2023-01-30T06:13:55.635033",
     "exception": false,
     "start_time": "2023-01-30T06:13:55.600548",
     "status": "completed"
    },
    "tags": []
   },
   "outputs": [
    {
     "data": {
      "text/html": [
       "<div>\n",
       "<style scoped>\n",
       "    .dataframe tbody tr th:only-of-type {\n",
       "        vertical-align: middle;\n",
       "    }\n",
       "\n",
       "    .dataframe tbody tr th {\n",
       "        vertical-align: top;\n",
       "    }\n",
       "\n",
       "    .dataframe thead th {\n",
       "        text-align: right;\n",
       "    }\n",
       "</style>\n",
       "<table border=\"1\" class=\"dataframe\">\n",
       "  <thead>\n",
       "    <tr style=\"text-align: right;\">\n",
       "      <th></th>\n",
       "      <th>Model</th>\n",
       "      <th>Is_Regressor</th>\n",
       "      <th>Is_Classifier</th>\n",
       "    </tr>\n",
       "  </thead>\n",
       "  <tbody>\n",
       "    <tr>\n",
       "      <th>0</th>\n",
       "      <td>AdaBoostClassifier</td>\n",
       "      <td>False</td>\n",
       "      <td>True</td>\n",
       "    </tr>\n",
       "    <tr>\n",
       "      <th>1</th>\n",
       "      <td>BaggingClassifier</td>\n",
       "      <td>False</td>\n",
       "      <td>True</td>\n",
       "    </tr>\n",
       "    <tr>\n",
       "      <th>2</th>\n",
       "      <td>BernoulliNB</td>\n",
       "      <td>False</td>\n",
       "      <td>True</td>\n",
       "    </tr>\n",
       "    <tr>\n",
       "      <th>3</th>\n",
       "      <td>CalibratedClassifierCV</td>\n",
       "      <td>False</td>\n",
       "      <td>True</td>\n",
       "    </tr>\n",
       "    <tr>\n",
       "      <th>4</th>\n",
       "      <td>CategoricalNB</td>\n",
       "      <td>False</td>\n",
       "      <td>True</td>\n",
       "    </tr>\n",
       "    <tr>\n",
       "      <th>5</th>\n",
       "      <td>ClassifierChain</td>\n",
       "      <td>False</td>\n",
       "      <td>True</td>\n",
       "    </tr>\n",
       "    <tr>\n",
       "      <th>6</th>\n",
       "      <td>ComplementNB</td>\n",
       "      <td>False</td>\n",
       "      <td>True</td>\n",
       "    </tr>\n",
       "    <tr>\n",
       "      <th>7</th>\n",
       "      <td>DecisionTreeClassifier</td>\n",
       "      <td>False</td>\n",
       "      <td>True</td>\n",
       "    </tr>\n",
       "    <tr>\n",
       "      <th>8</th>\n",
       "      <td>DummyClassifier</td>\n",
       "      <td>False</td>\n",
       "      <td>True</td>\n",
       "    </tr>\n",
       "    <tr>\n",
       "      <th>9</th>\n",
       "      <td>ExtraTreeClassifier</td>\n",
       "      <td>False</td>\n",
       "      <td>True</td>\n",
       "    </tr>\n",
       "    <tr>\n",
       "      <th>10</th>\n",
       "      <td>ExtraTreesClassifier</td>\n",
       "      <td>False</td>\n",
       "      <td>True</td>\n",
       "    </tr>\n",
       "    <tr>\n",
       "      <th>11</th>\n",
       "      <td>GaussianNB</td>\n",
       "      <td>False</td>\n",
       "      <td>True</td>\n",
       "    </tr>\n",
       "    <tr>\n",
       "      <th>12</th>\n",
       "      <td>GaussianProcessClassifier</td>\n",
       "      <td>False</td>\n",
       "      <td>True</td>\n",
       "    </tr>\n",
       "    <tr>\n",
       "      <th>13</th>\n",
       "      <td>GradientBoostingClassifier</td>\n",
       "      <td>False</td>\n",
       "      <td>True</td>\n",
       "    </tr>\n",
       "    <tr>\n",
       "      <th>14</th>\n",
       "      <td>HistGradientBoostingClassifier</td>\n",
       "      <td>False</td>\n",
       "      <td>True</td>\n",
       "    </tr>\n",
       "    <tr>\n",
       "      <th>15</th>\n",
       "      <td>KNeighborsClassifier</td>\n",
       "      <td>False</td>\n",
       "      <td>True</td>\n",
       "    </tr>\n",
       "    <tr>\n",
       "      <th>16</th>\n",
       "      <td>LabelPropagation</td>\n",
       "      <td>False</td>\n",
       "      <td>True</td>\n",
       "    </tr>\n",
       "    <tr>\n",
       "      <th>17</th>\n",
       "      <td>LabelSpreading</td>\n",
       "      <td>False</td>\n",
       "      <td>True</td>\n",
       "    </tr>\n",
       "    <tr>\n",
       "      <th>18</th>\n",
       "      <td>LinearDiscriminantAnalysis</td>\n",
       "      <td>False</td>\n",
       "      <td>True</td>\n",
       "    </tr>\n",
       "    <tr>\n",
       "      <th>19</th>\n",
       "      <td>LinearSVC</td>\n",
       "      <td>False</td>\n",
       "      <td>True</td>\n",
       "    </tr>\n",
       "    <tr>\n",
       "      <th>20</th>\n",
       "      <td>LogisticRegression</td>\n",
       "      <td>False</td>\n",
       "      <td>True</td>\n",
       "    </tr>\n",
       "    <tr>\n",
       "      <th>21</th>\n",
       "      <td>LogisticRegressionCV</td>\n",
       "      <td>False</td>\n",
       "      <td>True</td>\n",
       "    </tr>\n",
       "    <tr>\n",
       "      <th>22</th>\n",
       "      <td>MLPClassifier</td>\n",
       "      <td>False</td>\n",
       "      <td>True</td>\n",
       "    </tr>\n",
       "    <tr>\n",
       "      <th>23</th>\n",
       "      <td>MultiOutputClassifier</td>\n",
       "      <td>False</td>\n",
       "      <td>True</td>\n",
       "    </tr>\n",
       "    <tr>\n",
       "      <th>24</th>\n",
       "      <td>MultinomialNB</td>\n",
       "      <td>False</td>\n",
       "      <td>True</td>\n",
       "    </tr>\n",
       "    <tr>\n",
       "      <th>25</th>\n",
       "      <td>NearestCentroid</td>\n",
       "      <td>False</td>\n",
       "      <td>True</td>\n",
       "    </tr>\n",
       "    <tr>\n",
       "      <th>26</th>\n",
       "      <td>NuSVC</td>\n",
       "      <td>False</td>\n",
       "      <td>True</td>\n",
       "    </tr>\n",
       "    <tr>\n",
       "      <th>27</th>\n",
       "      <td>OneVsOneClassifier</td>\n",
       "      <td>False</td>\n",
       "      <td>True</td>\n",
       "    </tr>\n",
       "    <tr>\n",
       "      <th>28</th>\n",
       "      <td>OneVsRestClassifier</td>\n",
       "      <td>False</td>\n",
       "      <td>True</td>\n",
       "    </tr>\n",
       "    <tr>\n",
       "      <th>29</th>\n",
       "      <td>OutputCodeClassifier</td>\n",
       "      <td>False</td>\n",
       "      <td>True</td>\n",
       "    </tr>\n",
       "    <tr>\n",
       "      <th>30</th>\n",
       "      <td>PassiveAggressiveClassifier</td>\n",
       "      <td>False</td>\n",
       "      <td>True</td>\n",
       "    </tr>\n",
       "    <tr>\n",
       "      <th>31</th>\n",
       "      <td>Perceptron</td>\n",
       "      <td>False</td>\n",
       "      <td>True</td>\n",
       "    </tr>\n",
       "    <tr>\n",
       "      <th>32</th>\n",
       "      <td>QuadraticDiscriminantAnalysis</td>\n",
       "      <td>False</td>\n",
       "      <td>True</td>\n",
       "    </tr>\n",
       "    <tr>\n",
       "      <th>33</th>\n",
       "      <td>RadiusNeighborsClassifier</td>\n",
       "      <td>False</td>\n",
       "      <td>True</td>\n",
       "    </tr>\n",
       "    <tr>\n",
       "      <th>34</th>\n",
       "      <td>RandomForestClassifier</td>\n",
       "      <td>False</td>\n",
       "      <td>True</td>\n",
       "    </tr>\n",
       "    <tr>\n",
       "      <th>35</th>\n",
       "      <td>RidgeClassifier</td>\n",
       "      <td>False</td>\n",
       "      <td>True</td>\n",
       "    </tr>\n",
       "    <tr>\n",
       "      <th>36</th>\n",
       "      <td>RidgeClassifierCV</td>\n",
       "      <td>False</td>\n",
       "      <td>True</td>\n",
       "    </tr>\n",
       "    <tr>\n",
       "      <th>37</th>\n",
       "      <td>SGDClassifier</td>\n",
       "      <td>False</td>\n",
       "      <td>True</td>\n",
       "    </tr>\n",
       "    <tr>\n",
       "      <th>38</th>\n",
       "      <td>SVC</td>\n",
       "      <td>False</td>\n",
       "      <td>True</td>\n",
       "    </tr>\n",
       "    <tr>\n",
       "      <th>39</th>\n",
       "      <td>StackingClassifier</td>\n",
       "      <td>False</td>\n",
       "      <td>True</td>\n",
       "    </tr>\n",
       "    <tr>\n",
       "      <th>40</th>\n",
       "      <td>VotingClassifier</td>\n",
       "      <td>False</td>\n",
       "      <td>True</td>\n",
       "    </tr>\n",
       "  </tbody>\n",
       "</table>\n",
       "</div>"
      ],
      "text/plain": [
       "                             Model  Is_Regressor  Is_Classifier\n",
       "0               AdaBoostClassifier         False           True\n",
       "1                BaggingClassifier         False           True\n",
       "2                      BernoulliNB         False           True\n",
       "3           CalibratedClassifierCV         False           True\n",
       "4                    CategoricalNB         False           True\n",
       "5                  ClassifierChain         False           True\n",
       "6                     ComplementNB         False           True\n",
       "7           DecisionTreeClassifier         False           True\n",
       "8                  DummyClassifier         False           True\n",
       "9              ExtraTreeClassifier         False           True\n",
       "10            ExtraTreesClassifier         False           True\n",
       "11                      GaussianNB         False           True\n",
       "12       GaussianProcessClassifier         False           True\n",
       "13      GradientBoostingClassifier         False           True\n",
       "14  HistGradientBoostingClassifier         False           True\n",
       "15            KNeighborsClassifier         False           True\n",
       "16                LabelPropagation         False           True\n",
       "17                  LabelSpreading         False           True\n",
       "18      LinearDiscriminantAnalysis         False           True\n",
       "19                       LinearSVC         False           True\n",
       "20              LogisticRegression         False           True\n",
       "21            LogisticRegressionCV         False           True\n",
       "22                   MLPClassifier         False           True\n",
       "23           MultiOutputClassifier         False           True\n",
       "24                   MultinomialNB         False           True\n",
       "25                 NearestCentroid         False           True\n",
       "26                           NuSVC         False           True\n",
       "27              OneVsOneClassifier         False           True\n",
       "28             OneVsRestClassifier         False           True\n",
       "29            OutputCodeClassifier         False           True\n",
       "30     PassiveAggressiveClassifier         False           True\n",
       "31                      Perceptron         False           True\n",
       "32   QuadraticDiscriminantAnalysis         False           True\n",
       "33       RadiusNeighborsClassifier         False           True\n",
       "34          RandomForestClassifier         False           True\n",
       "35                 RidgeClassifier         False           True\n",
       "36               RidgeClassifierCV         False           True\n",
       "37                   SGDClassifier         False           True\n",
       "38                             SVC         False           True\n",
       "39              StackingClassifier         False           True\n",
       "40                VotingClassifier         False           True"
      ]
     },
     "execution_count": 5,
     "metadata": {},
     "output_type": "execute_result"
    }
   ],
   "source": [
    "from sklearn.base import is_regressor, is_classifier\n",
    "import pandas as pd\n",
    "\n",
    "dat = []\n",
    "for name in classification_estimators:\n",
    "    model = eval(name)\n",
    "    dat.append([name, is_regressor(model), is_classifier(model)])\n",
    "\n",
    "pd.set_option('display.max_rows', 100)\n",
    "pd.DataFrame(dat, columns=['Model', 'Is_Regressor', 'Is_Classifier'])\n"
   ]
  },
  {
   "cell_type": "markdown",
   "id": "beee630d",
   "metadata": {
    "papermill": {
     "duration": 0.004167,
     "end_time": "2023-01-30T06:13:55.643746",
     "exception": false,
     "start_time": "2023-01-30T06:13:55.639579",
     "status": "completed"
    },
    "tags": []
   },
   "source": [
    "As you see all models are classifiers"
   ]
  },
  {
   "cell_type": "markdown",
   "id": "9d10a5ac",
   "metadata": {
    "papermill": {
     "duration": 0.003992,
     "end_time": "2023-01-30T06:13:55.652086",
     "exception": false,
     "start_time": "2023-01-30T06:13:55.648094",
     "status": "completed"
    },
    "tags": []
   },
   "source": [
    "### I believe this was some new and interesting piece of information for you. <br><br>Do upvote if you liked it!"
   ]
  },
  {
   "cell_type": "markdown",
   "id": "ca28519f",
   "metadata": {
    "papermill": {
     "duration": 0.004041,
     "end_time": "2023-01-30T06:13:55.660364",
     "exception": false,
     "start_time": "2023-01-30T06:13:55.656323",
     "status": "completed"
    },
    "tags": []
   },
   "source": [
    "![](https://media.tenor.com/QjfD0Mx8Mp8AAAAd/thanks-thank-you.gif)"
   ]
  }
 ],
 "metadata": {
  "kernelspec": {
   "display_name": "Python 3",
   "language": "python",
   "name": "python3"
  },
  "language_info": {
   "codemirror_mode": {
    "name": "ipython",
    "version": 3
   },
   "file_extension": ".py",
   "mimetype": "text/x-python",
   "name": "python",
   "nbconvert_exporter": "python",
   "pygments_lexer": "ipython3",
   "version": "3.7.12"
  },
  "papermill": {
   "default_parameters": {},
   "duration": 11.644678,
   "end_time": "2023-01-30T06:13:56.386403",
   "environment_variables": {},
   "exception": null,
   "input_path": "__notebook__.ipynb",
   "output_path": "__notebook__.ipynb",
   "parameters": {},
   "start_time": "2023-01-30T06:13:44.741725",
   "version": "2.3.4"
  }
 },
 "nbformat": 4,
 "nbformat_minor": 5
}
